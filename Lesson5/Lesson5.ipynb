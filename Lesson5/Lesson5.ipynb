{
 "cells": [
  {
   "cell_type": "markdown",
   "metadata": {},
   "source": [
    "# Plotting with Python and Jupyter Notebooks"
   ]
  },
  {
   "cell_type": "markdown",
   "metadata": {},
   "source": [
    "We will be using the `pyplot` class from the `matplotlib` python package. There are other packages that are built for plotting, some for specific purposes for example I use `yt` for plotting hdf5 output from hydrodynamical simulations. "
   ]
  },
  {
   "cell_type": "code",
   "execution_count": null,
   "metadata": {},
   "outputs": [],
   "source": [
    "# for Sean's use\n",
    "# /Users/sean/GitRepos/TorchAnalysis/ytPlotting"
   ]
  },
  {
   "cell_type": "code",
   "execution_count": null,
   "metadata": {},
   "outputs": [],
   "source": [
    "import matplotlib.pyplot as plt # plt is typically what I use\n",
    "import numpy as np # we'll need some numpy stuff in a bit"
   ]
  },
  {
   "cell_type": "markdown",
   "metadata": {},
   "source": [
    "Plotting is enormously useful in physics not only for presenting data in a professional fashion but also for understanding data in the first place. There have been many times for me where I've built up a complicated system and it wasn't until I pinned down and plotted one aspect that I could then understand what was happening."
   ]
  },
  {
   "cell_type": "code",
   "execution_count": null,
   "metadata": {
    "scrolled": false
   },
   "outputs": [],
   "source": [
    "plt.plot([1,2,3,4], 'k--')\n",
    "plt.ylabel('numbers')\n",
    "plt.xlabel('more numbers')\n",
    "plt.title('We can use LaTeX $\\leftrightarrow \\Delta \\gamma \\Omega$')\n",
    "\n",
    "plt.show()"
   ]
  },
  {
   "cell_type": "code",
   "execution_count": null,
   "metadata": {},
   "outputs": [],
   "source": []
  },
  {
   "cell_type": "code",
   "execution_count": null,
   "metadata": {},
   "outputs": [],
   "source": [
    "N = 20\n",
    "x = np.random.normal(5,1.2,N)\n",
    "y = np.random.uniform(0,1,N)\n",
    "\n",
    "plt.scatter(x,y, marker='^')\n",
    "plt.title('Random Points')\n",
    "plt.xlabel('x position')\n",
    "plt.ylabel('y position')\n",
    "plt.show()"
   ]
  },
  {
   "cell_type": "code",
   "execution_count": null,
   "metadata": {},
   "outputs": [],
   "source": []
  },
  {
   "cell_type": "code",
   "execution_count": null,
   "metadata": {},
   "outputs": [],
   "source": [
    "def f(t):\n",
    "    return np.exp(-t) * np.cos(2*np.pi*t)\n",
    "\n",
    "t1 = np.arange(0., 5., .1)\n",
    "t2 = np.arange(0., 5., .02)\n",
    "\n",
    "plt.figure(1, figsize=(12,12))\n",
    "plt.subplot(211)\n",
    "plt.plot(t1, f(t1), 'bo', t2, f(t2), 'k')\n",
    "plt.title('Subplot 1')\n",
    "\n",
    "plt.subplot(212)\n",
    "plt.plot(t2, np.cos(2*np.pi*t2), 'r--')\n",
    "plt.title('Subplot 2')\n",
    "plt.show()"
   ]
  },
  {
   "cell_type": "code",
   "execution_count": null,
   "metadata": {},
   "outputs": [],
   "source": []
  },
  {
   "cell_type": "code",
   "execution_count": null,
   "metadata": {},
   "outputs": [],
   "source": [
    "def log_map(x,a):\n",
    "    return a-x*x\n",
    "\n",
    "num_a = 10000\n",
    "num_discard = 300\n",
    "num_keep = 1000\n",
    "\n",
    "a = np.linspace(-0.25, 2, num_a)\n",
    "x = np.ones_like(a)*0.1\n",
    "\n",
    "#Call figure to be saved onto\n",
    "fig= plt.figure()\n",
    "\n",
    "#Number of transients\n",
    "for i in range(num_discard):\n",
    "    x = log_map(x,a)\n",
    "\n",
    "for i in range(num_keep):\n",
    "    plt.plot(a,x,'k,')\n",
    "    x = log_map(x,a)\n",
    "\n",
    "plt.title(\"Bifurcation Diagram for Logistic Map\")\n",
    "plt.xlabel('$a$')\n",
    "plt.ylabel('$x$')\n",
    "\n",
    "#fig.savefig('log.eps')\n",
    "plt.show()"
   ]
  },
  {
   "cell_type": "markdown",
   "metadata": {},
   "source": [
    "Let's set up a histogram plot. Set variables for the center of our normalized distribution (mu) and its standard deviation (sigma)."
   ]
  },
  {
   "cell_type": "code",
   "execution_count": null,
   "metadata": {},
   "outputs": [],
   "source": [
    "# We can set two variables in the same line if we want.\n",
    "mu, sigma = 100, 15\n",
    "\n",
    "# Assign x to our 'mu' + sigma times a normal distribution of 10000 floats between 0 and 1\n",
    "x = mu + sigma * np.random.randn(10000)\n",
    "\n",
    "# Play around with which histogram we choose to plot. We can also plot both at once!\n",
    "plt.hist(x,100, density=True, facecolor='r', alpha=0.5)\n",
    "#plt.hist(x,20, density=True, facecolor='g', alpha=0.5)\n",
    "\n",
    "xl, xu = plt.xlim() # Isolate the extreme values, we can use these to set our plot's xlim later.\n",
    "\n",
    "#windowdressing\n",
    "plt.xlabel('Smarts')\n",
    "plt.ylabel('Probability')\n",
    "plt.title('Histogram of IQ')\n",
    "# plt.text(a,b, '<sample_text>') where 'a' and 'b' are values corresponding to the plot's x and y coordinates.\n",
    "plt.text(60,.025, '$\\mu=100,\\ \\sigma=15$')\n",
    "plt.tight_layout()\n",
    "plt.grid(True)\n",
    "plt.xlim(xl,xu)\n",
    "plt.show()"
   ]
  },
  {
   "cell_type": "markdown",
   "metadata": {},
   "source": [
    "We want to open a file with a list of words in it. For each word present, create a dictionary key and increment the value by 1, thereby keeping track of each word that appears in the file and how many times each individual word appears."
   ]
  },
  {
   "cell_type": "code",
   "execution_count": null,
   "metadata": {},
   "outputs": [],
   "source": [
    "import os\n",
    "file = open('../Lesson3/words.txt','r') # create variable for our opened file\n",
    "Dict = {} # empty dictionary\n",
    "\n",
    "# Let's make a loop that goes through each word in the file. \n",
    "# Then, if the word is already in our dictionary, increment its value by 1. \n",
    "# If the word is not present, create a new key and set its value to 1.\n",
    "\n",
    "\n",
    "\n",
    "\n",
    "# Next, we want to set up two lists that we are able to plot.\n",
    "# Make x a list of each unique word in Dict.\n",
    "# Make y the corresponding key value for each word.\n",
    "x = []\n",
    "y = []\n",
    "\n",
    "# Use a loop to assign values to these lists\n",
    "for word in Dict:\n",
    "    x.append(        )\n",
    "    y.append(        )\n",
    "\n",
    "# Check if things look good by printing out our vectors\n",
    "print(x)\n",
    "print(y)\n",
    "\n",
    "# I'll set the figure up for us\n",
    "fig, ax = plt.subplots()\n",
    "\n",
    "# Doing stuff for axis ticks\n",
    "ind = np.arange(len(y))\n",
    "width = 0.75 #width of bars\n",
    "ax.barh(ind,y, width, color='b')\n",
    "ax.set_yticklabels(x, minor=False)\n",
    "ax.set_yticks(ind+width/2)\n",
    "\n",
    "# Setting up the labels, notice we can control the text size here!\n",
    "plt.title('Word Counts',size=50)\n",
    "plt.xlabel('Number')\n",
    "plt.ylabel('Word')\n",
    "plt.tight_layout()\n",
    "\n",
    "# We can save the file if we want.\n",
    "# The os.path.join() function takes your current python path (where this jupyter notebook exists)\n",
    "# and appends the string in the () to it. \n",
    "\n",
    "#plt.savefig(os.path.join('counts.png'), format='png')\n",
    "plt.show()"
   ]
  },
  {
   "cell_type": "code",
   "execution_count": null,
   "metadata": {},
   "outputs": [],
   "source": []
  },
  {
   "cell_type": "markdown",
   "metadata": {},
   "source": [
    "## Putting some things together.\n",
    "\n",
    "Let's take a user defined pair of 3d vectors, do some calculation, pass through some conditional statements, and plot some things! "
   ]
  },
  {
   "cell_type": "code",
   "execution_count": null,
   "metadata": {},
   "outputs": [],
   "source": [
    "import sys\n",
    "import numpy as np\n",
    "import matplotlib.pyplot as plt\n",
    "from mpl_toolkits.mplot3d import Axes3D\n",
    "\n",
    "x = [int(x) for x in input('x: ').split()] # input for 3d vector looks like: 8 -3 4\n",
    "y = [int(x) for x in input('y: ').split()]\n",
    "\n",
    "# compute the cross and dot products of the input vectors.\n",
    "comp_c = \n",
    "comp_d = \n",
    "\n",
    "# I'll put the vectors we will eventually plot in a list.\n",
    "vecs = [x,y,comp_c]\n",
    "# And their labels.\n",
    "ls = ['x','y','cross']\n",
    "\n",
    "# Come up with an if, elif, else statement to check our cross and dot computations to report \n",
    "# whether vectors x and y are parallel, perpendicular, or neither.\n",
    "\n",
    "if _______ :\n",
    "    \n",
    "elif ______ :\n",
    "\n",
    "else:\n",
    "\n",
    "# Print the result of parallel, perpendicular, or neither\n",
    "print(\"The vectors are %s\"%(__your_string__))\n",
    "\n",
    "# Make a matplotlib figure of size (10,10) and assign it to the variable fig\n",
    "fig = \n",
    "# I'll assign this figure to a set of 3d axes\n",
    "ax = fig.add_subplot(111, projection='3d')\n",
    "\n",
    "# I'll make a list of 4 different color options\n",
    "c = ['r','b','g','k']\n",
    "\n",
    "# Find a way to cycle through each vector, plot their x,y,z values,\n",
    "# assign a unique color and the correct label.\n",
    "\n",
    "\n",
    "\n",
    "\n",
    "# I'll finish up our plot!\n",
    "ax.set_xlabel('x')\n",
    "ax.set_ylabel('y')\n",
    "ax.set_zlabel('z')\n",
    "ax.legend(loc='best')\n",
    "plt.show()"
   ]
  },
  {
   "cell_type": "markdown",
   "metadata": {},
   "source": [
    "Extra: Can you develop a function that takes in two vectors and does the plotting from the previous cell?"
   ]
  },
  {
   "cell_type": "code",
   "execution_count": null,
   "metadata": {},
   "outputs": [],
   "source": []
  }
 ],
 "metadata": {
  "kernelspec": {
   "display_name": "Python 3",
   "language": "python",
   "name": "python3"
  },
  "language_info": {
   "codemirror_mode": {
    "name": "ipython",
    "version": 3
   },
   "file_extension": ".py",
   "mimetype": "text/x-python",
   "name": "python",
   "nbconvert_exporter": "python",
   "pygments_lexer": "ipython3",
   "version": "3.7.7"
  }
 },
 "nbformat": 4,
 "nbformat_minor": 4
}
