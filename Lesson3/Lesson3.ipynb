{
 "cells": [
  {
   "cell_type": "markdown",
   "metadata": {},
   "source": [
    "# File Manipulation!\n",
    "\n",
    "Here, we will go over some ways to load in, manipulate, and save txt/data files.\n",
    "\n",
    "As with all jupyter notebooks, everything we do here can also be done in an individual python script."
   ]
  },
  {
   "cell_type": "markdown",
   "metadata": {},
   "source": [
    "# Read-in and parse a simple file"
   ]
  },
  {
   "cell_type": "code",
   "execution_count": 1,
   "metadata": {},
   "outputs": [
    {
     "name": "stdout",
     "output_type": "stream",
     "text": [
      "<class 'list'>\n",
      "['0\\n', '1\\n', '2\\n', '3\\n']\n"
     ]
    }
   ],
   "source": [
    "infile = open('blank.txt', 'r') # Creates a text wrapper object that we save to the variable infile\n",
    "\n",
    "lines = infile.readlines() # the text wrapper object has the functional attribute .readlines() \n",
    "                           # which takes each line and assigns it to a list element\n",
    "print(type(lines)) # This shows us that the variable lines is in fact a list!\n",
    "\n",
    "print(lines)"
   ]
  },
  {
   "cell_type": "code",
   "execution_count": null,
   "metadata": {},
   "outputs": [],
   "source": [
    "# Because the variable lines is a list, we can parse it like we did in Lesson 2\n",
    "\n",
    "mean = 0 \n",
    "for number in lines:\n",
    "    mean = mean + number\n",
    "mean = mean/len(lines)"
   ]
  },
  {
   "cell_type": "code",
   "execution_count": 2,
   "metadata": {},
   "outputs": [
    {
     "name": "stdout",
     "output_type": "stream",
     "text": [
      "1.5\n"
     ]
    }
   ],
   "source": [
    "# Hmm... that didn't work. \n",
    "# Seens like the elements inside of the variable lines are strings so we cant add them to an integer.\n",
    "\n",
    "mean = 0 \n",
    "for line in lines:\n",
    "    number = float(line)\n",
    "    mean = mean + number\n",
    "mean = mean/len(lines)\n",
    "\n",
    "print(mean)"
   ]
  },
  {
   "cell_type": "markdown",
   "metadata": {},
   "source": [
    "## Parse a more complicated file\n",
    "\n",
    "If lines in a file are more complex say, for instance, several words separated by commas, our previous method of reading in the lines wont allow us to access each individual word. We will instead get a list of individual strings that include the several words and commas.\n",
    "\n",
    "Instead, we can split a string by defining a delimiter."
   ]
  },
  {
   "cell_type": "code",
   "execution_count": 3,
   "metadata": {},
   "outputs": [
    {
     "name": "stdout",
     "output_type": "stream",
     "text": [
      "first line of the file numbers[0]:  34,6,3,65,1234,56,56\n",
      "\n",
      "has the type: <class 'str'>\n",
      "but if I try to print the first number numbers[0][0]: 3\n"
     ]
    }
   ],
   "source": [
    "infile = open('numbers.csv', 'r')\n",
    "\n",
    "numbers = infile.readlines()\n",
    "print(\"first line of the file numbers[0]: \",numbers[0])\n",
    "print(\"has the type:\", type(numbers[0]))\n",
    "print(\"but if I try to print the first number numbers[0][0]:\", numbers[0][0])"
   ]
  },
  {
   "cell_type": "code",
   "execution_count": 4,
   "metadata": {},
   "outputs": [
    {
     "name": "stdout",
     "output_type": "stream",
     "text": [
      ".split(') generates a new list of strings but without the commas\n",
      "['34', '6', '3', '65', '1234', '56', '56\\n']\n"
     ]
    }
   ],
   "source": [
    "# We can take the comma-separated string of numbers in the first element spot \n",
    "# in numbers and split the string along the commas.\n",
    "num_delim = numbers[0].split(',')\n",
    "print(\".split(') generates a new list of strings but without the commas\")\n",
    "print(num_delim)"
   ]
  },
  {
   "cell_type": "markdown",
   "metadata": {},
   "source": [
    "If data is stored in multiple columns you can read it in using a numpy function."
   ]
  },
  {
   "cell_type": "code",
   "execution_count": 6,
   "metadata": {},
   "outputs": [],
   "source": [
    "import numpy as np\n",
    "block_data = np.genfromtxt(\"./block_data.txt\",dtype='str')"
   ]
  },
  {
   "cell_type": "code",
   "execution_count": 7,
   "metadata": {},
   "outputs": [
    {
     "name": "stdout",
     "output_type": "stream",
     "text": [
      "[['Month' 'Year' 'Money']\n",
      " ['January' '2014' '10']\n",
      " ['February' '2014' '15']\n",
      " ['March' '2014' '16']\n",
      " ['April' '2014' '20']\n",
      " ['May' '2014' '19']\n",
      " ['June' '2014' '11']\n",
      " ['July' '2014' '20']\n",
      " ['August' '2014' '21']\n",
      " ['September' '2014' '22']\n",
      " ['November' '2014' '20']\n",
      " ['August' '2015' '22']\n",
      " ['September' '2015' '27']\n",
      " ['May' '2015' '21']\n",
      " ['January' '2015' '20']]\n"
     ]
    }
   ],
   "source": [
    "print(block_data)"
   ]
  },
  {
   "cell_type": "markdown",
   "metadata": {},
   "source": [
    "# Practicals! Do 1-2\n",
    "\n",
    "1. Read words from 'words.txt' into a list and sort the list. \n",
    "\n",
    "2. Read the comma separated file 'numbers.csv' and store the 1st and 4th column in a list"
   ]
  },
  {
   "cell_type": "code",
   "execution_count": 15,
   "metadata": {},
   "outputs": [
    {
     "name": "stdout",
     "output_type": "stream",
     "text": [
      "['brown\\n', 'brown\\n', 'brown\\n', 'brown\\n', 'cat\\n', 'cat\\n', 'cat\\n', 'cat\\n', 'cow\\n', 'cow\\n', 'cow\\n', 'cow\\n', 'fluffy\\n', 'fluffy\\n', 'fluffy\\n', 'fluffy\\n', 'fluffy\\n', 'fluffy\\n', 'fluffy\\n', 'fluffy\\n', 'goat\\n', 'goat\\n', 'goat\\n', 'goat\\n', 'goat\\n', 'goat\\n', 'goat\\n', 'goat\\n', 'happy\\n', 'happy\\n', 'happy\\n', 'happy\\n', 'house\\n', 'house\\n', 'house\\n', 'house\\n', 'linux\\n', 'linux\\n', 'linux\\n', 'linux\\n', 'linux\\n', 'linux\\n', 'linux\\n', 'linux\\n', 'moose\\n', 'moose\\n', 'moose\\n', 'moose\\n', 'moose\\n', 'moose\\n', 'moose\\n', 'moose\\n', 'zebra\\n', 'zebra\\n', 'zebra\\n', 'zebra\\n']\n"
     ]
    }
   ],
   "source": [
    "# Practical 1.\n",
    "infile = open('words.txt','r')\n",
    "word = infile.readlines()\n",
    "words = sorted(word)\n",
    "print(words)\n"
   ]
  },
  {
   "cell_type": "code",
   "execution_count": 22,
   "metadata": {},
   "outputs": [
    {
     "name": "stdout",
     "output_type": "stream",
     "text": [
      "34 65\n",
      "34 57\n",
      "76 456\n",
      "12 45\n",
      "12 678\n",
      "34 53567\n"
     ]
    }
   ],
   "source": [
    "# Practical 2.\n",
    "\n",
    "#note that this is the solution given\n",
    "\n",
    "#Read the comma separated file 'numbers.cvs' and store the 1st and 4th column in a list\n",
    "\n",
    "import string\n",
    "\n",
    "#Read in file\n",
    "\n",
    "infile = open('numbers.csv')\n",
    "\n",
    "#create empty list for each column\n",
    "\n",
    "col1 = []\n",
    "col4 = []\n",
    "\n",
    "for line in infile:\n",
    "\t#strips whitespace\n",
    "\tline = line.strip()\n",
    "\t#splits at comma\n",
    "\tdata = line.split(',')\n",
    "\t#append 0th element to col1\n",
    "\tcol1.append(data[0])\n",
    "\t#append 3rd element to col4\n",
    "\tcol4.append(data[3])\n",
    "\tprint(data[0], data[3])\n"
   ]
  },
  {
   "cell_type": "markdown",
   "metadata": {},
   "source": [
    "## Writing to a file\n",
    "\n",
    "Same thing, use the open() function but we need to set it to write mode instead of read-only\n",
    "\n",
    "\n",
    "    r: Opens the file in read-only mode. Starts reading from the beginning of the file and is the default mode for the open() function.\n",
    "\n",
    "    rb: Opens the file as read-only in binary format and starts reading from the beginning of the file. While binary format can be used for different purposes, it is usually used when dealing with things like images, videos, etc.\n",
    "\n",
    "    r+: Opens a file for reading and writing, placing the pointer at the beginning of the file.\n",
    "\n",
    "    w: Opens in write-only mode. The pointer is placed at the beginning of the file and this will overwrite any existing file with the same name. It will create a new file if one with the same name doesn't exist.\n",
    "   \n",
    "    wb: Opens a write-only file in binary mode.\n",
    "\n",
    "    w+: Opens a file for writing and reading.\n",
    "\n",
    "    wb+: Opens a file for writing and reading in binary mode.\n",
    "\n",
    "    a: Opens a file for appending new information to it. The pointer is placed at the end of the file. A new file is created if one with the same name doesn't exist.\n",
    "\n",
    "    ab: Opens a file for appending in binary mode.\n",
    "\n",
    "    a+: Opens a file for both appending and reading.\n",
    "\n",
    "    ab+: Opens a file for both appending and reading in binary mode."
   ]
  },
  {
   "cell_type": "code",
   "execution_count": 23,
   "metadata": {},
   "outputs": [],
   "source": [
    "new_test_file = open('./new_test_file.txt', 'w')\n",
    "\n",
    "new_test_file.write(\"Testing Testing 1 2 3\")\n",
    "# At this point the file will have been created, but nothing officially written to it until we close it!\n",
    "\n",
    "new_test_file.close()\n",
    "#There we go, all written!"
   ]
  },
  {
   "cell_type": "markdown",
   "metadata": {},
   "source": [
    "# Dictionaries\n",
    "\n",
    "Similar to lists but a bit more powerful in their organization. Built using a 'key : value' pair\n",
    "\n",
    "    D = {}              #empty dictionary\n",
    "    \n",
    "    D = {'my_key' : 5}  #one entry\n",
    "    \n",
    "    D['my_key']         #access value"
   ]
  },
  {
   "cell_type": "code",
   "execution_count": 24,
   "metadata": {},
   "outputs": [
    {
     "name": "stdout",
     "output_type": "stream",
     "text": [
      "{'Oslo': 13, 'London': 15.4, 'Paris': 17.5}\n",
      "15.4\n",
      "{'Oslo': 13, 'London': 15.4, 'Paris': 17.5, 'Madrid': 26.0}\n"
     ]
    }
   ],
   "source": [
    "# I'll build us an example dictionary to play with\n",
    "temps = {'Oslo':13, 'London':15.4, 'Paris':17.5}\n",
    "print(temps)\n",
    "print(temps['London'])\n",
    "\n",
    "# Add a new key and value\n",
    "temps['Madrid'] = 26.0\n",
    "print(temps)"
   ]
  },
  {
   "cell_type": "markdown",
   "metadata": {},
   "source": [
    "## Looping over Dictionaries"
   ]
  },
  {
   "cell_type": "code",
   "execution_count": 25,
   "metadata": {},
   "outputs": [
    {
     "name": "stdout",
     "output_type": "stream",
     "text": [
      "The temperature in Oslo is 13\n",
      "The temperature in London is 15.4\n",
      "The temperature in Paris is 17.5\n",
      "The temperature in Madrid is 26\n"
     ]
    }
   ],
   "source": [
    "# We can print out the dictionary information in a nice way\n",
    "\n",
    "for city in temps:\n",
    "    print('The temperature in %s is %g'%(city, temps[city]))"
   ]
  },
  {
   "cell_type": "code",
   "execution_count": 27,
   "metadata": {},
   "outputs": [
    {
     "name": "stdout",
     "output_type": "stream",
     "text": [
      "No temperature data for Berlin\n",
      "Oslo 13\n"
     ]
    }
   ],
   "source": [
    "# And we can check if a certain key exists and give nice output if it does/doesn't\n",
    "if 'Berlin' in temps:\n",
    "    print('Berlin', temps['Berlin'])\n",
    "else:\n",
    "    print('No temperature data for Berlin')\n",
    "    \n",
    "if 'Oslo' in temps:\n",
    "    print('Oslo', temps['Oslo'])\n",
    "else:\n",
    "    print('No temperature data for Oslo')"
   ]
  },
  {
   "cell_type": "markdown",
   "metadata": {},
   "source": [
    "# Practicals!\n",
    "\n",
    "3. Read in the file block_data.txt using either loadtxt or genfromtxt. Print the month and year that made the most money.\n",
    "\n",
    "4. Print cos(x) to a file in pairs\n",
    "\n",
    "5. Read words from words.txt and count how many times they occur"
   ]
  },
  {
   "cell_type": "code",
   "execution_count": 38,
   "metadata": {},
   "outputs": [
    {
     "name": "stdout",
     "output_type": "stream",
     "text": [
      "[['Month' 'Year' 'Money']\n",
      " ['January' '2014' '10']\n",
      " ['February' '2014' '15']\n",
      " ['March' '2014' '16']\n",
      " ['April' '2014' '20']\n",
      " ['May' '2014' '19']\n",
      " ['June' '2014' '11']\n",
      " ['July' '2014' '20']\n",
      " ['August' '2014' '21']\n",
      " ['September' '2014' '22']\n",
      " ['November' '2014' '20']\n",
      " ['August' '2015' '22']\n",
      " ['September' '2015' '27']\n",
      " ['May' '2015' '21']\n",
      " ['January' '2015' '20']]\n"
     ]
    },
    {
     "ename": "TypeError",
     "evalue": "unsupported operand type(s) for +: 'dict' and 'dict'",
     "output_type": "error",
     "traceback": [
      "\u001b[0;31m---------------------------------------------------------------------------\u001b[0m",
      "\u001b[0;31mTypeError\u001b[0m                                 Traceback (most recent call last)",
      "\u001b[0;32m<ipython-input-38-345e10ef64f4>\u001b[0m in \u001b[0;36m<module>\u001b[0;34m\u001b[0m\n\u001b[1;32m      9\u001b[0m \u001b[0mmoney\u001b[0m \u001b[0;34m=\u001b[0m \u001b[0;34m{\u001b[0m\u001b[0;34m}\u001b[0m\u001b[0;34m\u001b[0m\u001b[0;34m\u001b[0m\u001b[0m\n\u001b[1;32m     10\u001b[0m \u001b[0;32mfor\u001b[0m \u001b[0mi\u001b[0m \u001b[0;32min\u001b[0m \u001b[0mblock_data\u001b[0m\u001b[0;34m:\u001b[0m\u001b[0;34m\u001b[0m\u001b[0;34m\u001b[0m\u001b[0m\n\u001b[0;32m---> 11\u001b[0;31m     \u001b[0mmoney\u001b[0m \u001b[0;34m=\u001b[0m \u001b[0mmoney\u001b[0m \u001b[0;34m+\u001b[0m \u001b[0;34m{\u001b[0m\u001b[0mi\u001b[0m\u001b[0;34m[\u001b[0m\u001b[0;36m0\u001b[0m\u001b[0;34m]\u001b[0m\u001b[0;34m+\u001b[0m\u001b[0mi\u001b[0m\u001b[0;34m[\u001b[0m\u001b[0;36m1\u001b[0m\u001b[0;34m]\u001b[0m\u001b[0;34m:\u001b[0m\u001b[0mi\u001b[0m\u001b[0;34m[\u001b[0m\u001b[0;36m2\u001b[0m\u001b[0;34m]\u001b[0m\u001b[0;34m}\u001b[0m\u001b[0;34m\u001b[0m\u001b[0;34m\u001b[0m\u001b[0m\n\u001b[0m\u001b[1;32m     12\u001b[0m \u001b[0;34m\u001b[0m\u001b[0m\n\u001b[1;32m     13\u001b[0m \u001b[0mprint\u001b[0m\u001b[0;34m(\u001b[0m\u001b[0mmoney\u001b[0m\u001b[0;34m)\u001b[0m\u001b[0;34m\u001b[0m\u001b[0;34m\u001b[0m\u001b[0m\n",
      "\u001b[0;31mTypeError\u001b[0m: unsupported operand type(s) for +: 'dict' and 'dict'"
     ]
    }
   ],
   "source": [
    "# Practical 3\n",
    "\n",
    "import numpy as n\n",
    "\n",
    "block_data = np.genfromtxt(\"./block_data.txt\",dtype='str')\n",
    "\n",
    "print(block_data)\n",
    "\n",
    "money = {}\n",
    "for i in block_data:\n",
    "    money = money + {i[0]+i[1]:i[2]}\n",
    "\n",
    "print(money)\n",
    "\n",
    "\n",
    "    \n",
    "    "
   ]
  },
  {
   "cell_type": "code",
   "execution_count": null,
   "metadata": {},
   "outputs": [],
   "source": [
    "# Practical 4\n",
    "\n"
   ]
  },
  {
   "cell_type": "code",
   "execution_count": 43,
   "metadata": {},
   "outputs": [
    {
     "name": "stdout",
     "output_type": "stream",
     "text": [
      "['happy\\n', 'brown\\n', 'cat\\n', 'fluffy\\n', 'goat\\n', 'cow\\n', 'moose\\n', 'linux\\n', 'zebra\\n', 'house\\n', 'moose\\n', 'linux\\n', 'fluffy\\n', 'goat\\n', 'happy\\n', 'happy\\n', 'brown\\n', 'cat\\n', 'fluffy\\n', 'goat\\n', 'cow\\n', 'moose\\n', 'linux\\n', 'zebra\\n', 'house\\n', 'moose\\n', 'linux\\n', 'fluffy\\n', 'goat\\n', 'brown\\n', 'cat\\n', 'happy\\n', 'brown\\n', 'cat\\n', 'fluffy\\n', 'goat\\n', 'cow\\n', 'moose\\n', 'linux\\n', 'zebra\\n', 'house\\n', 'moose\\n', 'linux\\n', 'fluffy\\n', 'goat\\n', 'fluffy\\n', 'goat\\n', 'cow\\n', 'moose\\n', 'linux\\n', 'zebra\\n', 'house\\n', 'moose\\n', 'linux\\n', 'fluffy\\n', 'goat\\n']\n"
     ]
    }
   ],
   "source": [
    "# Practical 5\n",
    "words = open('./words.txt','r')\n",
    "\n",
    "word = words.readlines()\n",
    "\n",
    "print(word)\n"
   ]
  },
  {
   "cell_type": "markdown",
   "metadata": {},
   "source": [
    "# Storing Data Objects\n",
    "\n",
    "pickle https://docs.python.org/3/library/pickle.html\n",
    "\n",
    "A brief warning: pickle is not secure, meaning you are able to unpickle any file you tell your computer to, not matter what the reprocussions might be. It's completely safe to use for your own work and research, but do go downloading and opening strange pickles from the web.\n",
    "\n",
    "json https://docs.python.org/3/library/json.html"
   ]
  },
  {
   "cell_type": "code",
   "execution_count": null,
   "metadata": {},
   "outputs": [],
   "source": [
    "import pickle"
   ]
  },
  {
   "cell_type": "code",
   "execution_count": null,
   "metadata": {},
   "outputs": [],
   "source": [
    "# Im going to store our temps dictionary in a pickle object \n",
    "with open('./temps.pickle', 'wb') as temp_file:\n",
    "    pickle.dump(temps, temp_file, protocol=pickle.HIGHEST_PROTOCOL)\n",
    "    \n",
    "with open('./temps.pickle', 'rb') as temp_file:\n",
    "    temp2 = pickle.load(temp_file)\n",
    "print(pickle.HIGHEST_PROTOCOL)\n",
    "print(temps == temp2)"
   ]
  },
  {
   "cell_type": "markdown",
   "metadata": {},
   "source": [
    "By the way, the protocol option is NOT necessary. However, the python2 pickle will dump files with protocol=0 and Python3 uses protocol=2 by defualt and protocol=4 at HIGHEST_PROTOCOL. \n",
    "\n",
    "The higher the protocol, the smaller the resulting binary file. This is generally not important unless you are doing some major pickling. "
   ]
  },
  {
   "cell_type": "code",
   "execution_count": null,
   "metadata": {},
   "outputs": [],
   "source": []
  }
 ],
 "metadata": {
  "kernelspec": {
   "display_name": "Python 3",
   "language": "python",
   "name": "python3"
  },
  "language_info": {
   "codemirror_mode": {
    "name": "ipython",
    "version": 3
   },
   "file_extension": ".py",
   "mimetype": "text/x-python",
   "name": "python",
   "nbconvert_exporter": "python",
   "pygments_lexer": "ipython3",
   "version": "3.7.4"
  }
 },
 "nbformat": 4,
 "nbformat_minor": 4
}
