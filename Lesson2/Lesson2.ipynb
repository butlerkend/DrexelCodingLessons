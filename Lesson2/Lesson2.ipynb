{
 "cells": [
  {
   "cell_type": "markdown",
   "metadata": {},
   "source": [
    "# Welcome to Jupyter Notebooks!"
   ]
  },
  {
   "cell_type": "code",
   "execution_count": 2,
   "metadata": {},
   "outputs": [],
   "source": [
    "# Types of variables\n",
    "a=5 # Integer\n",
    "b=5.0 # Float\n",
    "c=\"5\" # String\n",
    "d=5<2 # Boolean\n",
    "\n",
    "# Types of Boolean Expressions\n",
    "# x == 2\n",
    "# x != 2\n",
    "# x >= 2\n",
    "# x <= 2\n",
    "# x < 2\n",
    "# x > 2\n",
    "\n",
    "# To run this cell, click on it and press Shift+Enter\n",
    "# By running the cell, you've assigned the variables a, b, c, d to their values"
   ]
  },
  {
   "cell_type": "markdown",
   "metadata": {},
   "source": [
    "## Printing Things, data types"
   ]
  },
  {
   "cell_type": "code",
   "execution_count": 13,
   "metadata": {},
   "outputs": [
    {
     "name": "stdout",
     "output_type": "stream",
     "text": [
      "Hello World\n",
      "Hello World\n",
      "3\n",
      "3.0\n",
      "True False\n"
     ]
    }
   ],
   "source": [
    "# Printing Strings\n",
    "print(\"Hello World\")\n",
    "print(\"Hello\", \"World\")\n",
    "\n",
    "# Printing int/float\n",
    "print(3); print(3.0)\n",
    "\n",
    "# Printing Booleans\n",
    "print(True, False)\n",
    "\n",
    "\n",
    "    "
   ]
  },
  {
   "cell_type": "code",
   "execution_count": 14,
   "metadata": {},
   "outputs": [
    {
     "name": "stdout",
     "output_type": "stream",
     "text": [
      "5 <class 'int'>\n",
      "5.0 <class 'float'>\n",
      "5 <class 'str'>\n",
      "False <class 'bool'>\n"
     ]
    }
   ],
   "source": [
    "# Print out the variables from the first cell as well as their data type.\n",
    "print(a, type(a))\n",
    "print(b, type(b))\n",
    "print(c, type(c))\n",
    "print(d, type(d))"
   ]
  },
  {
   "cell_type": "markdown",
   "metadata": {},
   "source": [
    "## Arithmetic"
   ]
  },
  {
   "cell_type": "code",
   "execution_count": null,
   "metadata": {
    "collapsed": true
   },
   "outputs": [],
   "source": [
    "# Addition, subtraction, division, multiplication, exponent\n",
    "(2+3)-((5./2)*3**2)\n",
    "\n",
    "# Older versions of python do not recognize division as producing floats by default (e.g. 1/2 = 1) \n",
    "# So I have a habit of ensuring the division produces a float by making one number a float (e.g. 1./2 = 0.5)\n",
    "# Python 3 no longer requires this."
   ]
  },
  {
   "cell_type": "markdown",
   "metadata": {},
   "source": [
    "### Importing mathematical libraries"
   ]
  },
  {
   "cell_type": "code",
   "execution_count": 16,
   "metadata": {},
   "outputs": [
    {
     "name": "stdout",
     "output_type": "stream",
     "text": [
      "3.141592653589793\n",
      "3.141592653589793\n",
      "3.141592653589793\n",
      "3.141592653589793\n"
     ]
    }
   ],
   "source": [
    "import math\n",
    "print(math.pi)\n",
    "\n",
    "import math as m\n",
    "print(m.pi)\n",
    "\n",
    "from math import pi\n",
    "print(pi)\n"
   ]
  },
  {
   "cell_type": "markdown",
   "metadata": {},
   "source": [
    "## While Loops"
   ]
  },
  {
   "cell_type": "code",
   "execution_count": 17,
   "metadata": {},
   "outputs": [
    {
     "name": "stdout",
     "output_type": "stream",
     "text": [
      "This loop will keep going until the variable C is > 40\n",
      "-20 -4.0\n",
      "-15 5.0\n",
      "-10 14.0\n",
      "-5 23.0\n",
      "0 32.0\n",
      "5 41.0\n",
      "10 50.0\n",
      "15 59.0\n",
      "20 68.0\n",
      "25 77.0\n",
      "30 86.0\n",
      "35 95.0\n",
      "40 104.0\n"
     ]
    }
   ],
   "source": [
    "# While Loop\n",
    "\n",
    "C = -20 # Set some things up before our loop\n",
    "dC = 5\n",
    "print('This loop will keep going until the variable C is > 40')\n",
    "while C <= 40:\n",
    "    F = (9./5)*C + 32\n",
    "    print(C, F)\n",
    "    C = C+dC # This line is very very important. Without it, the variable C will stay \n",
    "             # at it's assigned value of -20 and the loop will continue forever.\n",
    "        \n",
    "# Can also do this in a \"regular\" python script!"
   ]
  },
  {
   "cell_type": "markdown",
   "metadata": {},
   "source": [
    "# Practicals! Do 1-3"
   ]
  },
  {
   "cell_type": "code",
   "execution_count": 18,
   "metadata": {
    "scrolled": true
   },
   "outputs": [
    {
     "name": "stdout",
     "output_type": "stream",
     "text": [
      "10\n",
      "9\n",
      "8\n",
      "7\n",
      "6\n",
      "5\n",
      "4\n",
      "3\n",
      "2\n",
      "1\n"
     ]
    }
   ],
   "source": [
    "# 1. Count down from 1-10\n",
    "\n",
    "L = 10\n",
    "while L>0:\n",
    "    print(L)\n",
    "    L = L-1\n",
    "\n",
    "\n",
    "\n"
   ]
  },
  {
   "cell_type": "code",
   "execution_count": 24,
   "metadata": {},
   "outputs": [
    {
     "name": "stdout",
     "output_type": "stream",
     "text": [
      "2\n",
      "4\n",
      "6\n",
      "8\n",
      "10\n",
      "12\n",
      "14\n",
      "16\n",
      "18\n",
      "20\n",
      "22\n",
      "24\n",
      "26\n",
      "28\n",
      "30\n",
      "32\n",
      "34\n"
     ]
    }
   ],
   "source": [
    "# 2. Print even numbers between 1 and N\n",
    "N = 35\n",
    "\n",
    "a = 1\n",
    "while a <= N:\n",
    "    if a%2 == 0:\n",
    "        print(a)\n",
    "    a = a+1"
   ]
  },
  {
   "cell_type": "code",
   "execution_count": 23,
   "metadata": {},
   "outputs": [
    {
     "name": "stdout",
     "output_type": "stream",
     "text": [
      "3.3182289932289937\n"
     ]
    }
   ],
   "source": [
    "# 3. What is the sum of the reciprocal of k from k=1 to k=M\n",
    "k = 15\n",
    "M = 0\n",
    "n=1\n",
    "while n <=k:\n",
    "    M = M + (1/n)\n",
    "    n = n+1\n",
    "print(M)"
   ]
  },
  {
   "cell_type": "markdown",
   "metadata": {},
   "source": [
    "# Lists"
   ]
  },
  {
   "cell_type": "code",
   "execution_count": 25,
   "metadata": {},
   "outputs": [
    {
     "name": "stdout",
     "output_type": "stream",
     "text": [
      "[-20, -15, -10, -5, 0, 5, 10, 15, 20, 25, 30] <class 'list'>\n",
      "-20\n",
      "The 4th element of C is: -5\n",
      "What does C[-1] do?... 30\n",
      "Appended  [-20, -15, -10, -5, 0, 5, 10, 15, 20, 25, 30, 35]\n",
      "Added some more: [-20, -15, -10, -5, 0, 5, 10, 15, 20, 25, 30, 35, 40, 45]\n",
      "Inseted a value into the 1st element slot [-20, -18, -15, -10, -5, 0, 5, 10, 15, 20, 25, 30, 35, 40, 45]\n"
     ]
    }
   ],
   "source": [
    "C = [-20, -15, -10, -5, 0, 5, 10, 15, 20, 25, 30]\n",
    "print(C, type(C)) # Take a look at C and its type\n",
    "\n",
    "print(C[0]) # Print the 0th element of the list C\n",
    "print(\"The 4th element of C is:\", C[3])\n",
    "print(\"What does C[-1] do?...\", C[-1])\n",
    "\n",
    "# Append the value of 35 to the end of the list\n",
    "C.append(35)\n",
    "print(\"Appended \", C)\n",
    "\n",
    "# Add another list to the end of C\n",
    "C = C + [40, 45]\n",
    "print(\"Added some more:\", C)\n",
    "\n",
    "#Insert a value\n",
    "C.insert(1,-18)\n",
    "print(\"Inseted a value into the 1st element slot\", C)"
   ]
  },
  {
   "cell_type": "code",
   "execution_count": 26,
   "metadata": {},
   "outputs": [
    {
     "name": "stdout",
     "output_type": "stream",
     "text": [
      "Length of C 15\n",
      "Is 10 in C? [-20, -18, -15, -10, -5, 0, 5, 10, 15, 20, 25, 30, 35, 40, 45]\n",
      "Location of 10 is: 7\n"
     ]
    }
   ],
   "source": [
    "# List Properties\n",
    "\n",
    "#List length\n",
    "len_C = len(C)\n",
    "print(\"Length of C\", len_C)\n",
    "\n",
    "#logic\n",
    "num = 10\n",
    "check_for_num = num in C\n",
    "print(\"Is %d in C?\"%num, C) # I did something a little tricky here in how I printed out the information.\n",
    "\n",
    "#Indexing\n",
    "loc_of_num = C.index(num)\n",
    "print(\"Location of %d is:\"%num, loc_of_num)"
   ]
  },
  {
   "cell_type": "markdown",
   "metadata": {},
   "source": [
    "## For Loops"
   ]
  },
  {
   "cell_type": "code",
   "execution_count": 27,
   "metadata": {},
   "outputs": [
    {
     "name": "stdout",
     "output_type": "stream",
     "text": [
      "[-4.0, -0.3999999999999986, 5.0, 14.0, 23.0, 32.0, 41.0, 50.0, 59.0, 68.0, 77.0, 86.0, 95.0, 104.0, 113.0]\n"
     ]
    }
   ],
   "source": [
    "# for loop\n",
    "F_degrees = []\n",
    "for temp in C: \n",
    "    # temp is assigned to the 0th element of the list C, then iterates\n",
    "    F = (9.0/5)*temp + 32\n",
    "    F_degrees.append(F)\n",
    "print(F_degrees)"
   ]
  },
  {
   "cell_type": "code",
   "execution_count": 28,
   "metadata": {},
   "outputs": [
    {
     "name": "stdout",
     "output_type": "stream",
     "text": [
      "[-4.0, -0.3999999999999986, 5.0, 14.0, 23.0, 32.0, 41.0, 50.0, 59.0, 68.0, 77.0, 86.0, 95.0, 104.0, 113.0]\n",
      "Hmm... that didn't work\n",
      "f is only a COPY of the element in the list\n"
     ]
    }
   ],
   "source": [
    "# How do we increase all the elements in F_degrees by 5.0?\n",
    "for f in F_degrees:\n",
    "    f += 5\n",
    "print(F_degrees)\n",
    "print(\"Hmm... that didn't work\")\n",
    "print(\"f is only a COPY of the element in the list\")"
   ]
  },
  {
   "cell_type": "code",
   "execution_count": null,
   "metadata": {
    "collapsed": true
   },
   "outputs": [],
   "source": [
    "# Try again\n",
    "for i, f in enumerate(F_degrees):\n",
    "    # enumerate returns the index AND the value \n",
    "    F_degrees[i] += 5\n",
    "print(F_degrees)\n",
    "\n",
    "# Do it again, but simpler!\n",
    "F_plus_five = [F+5 for F in F_degrees]\n",
    "print(F_plus_five)"
   ]
  },
  {
   "cell_type": "markdown",
   "metadata": {},
   "source": [
    "# Practicals! Do 4-6"
   ]
  },
  {
   "cell_type": "code",
   "execution_count": 34,
   "metadata": {},
   "outputs": [
    {
     "name": "stdout",
     "output_type": "stream",
     "text": [
      "[1, 3, 5, 7, 9, 11, 13, 15, 17, 19, 21, 23, 25, 27, 29, 31, 33, 35]\n"
     ]
    }
   ],
   "source": [
    "# 4. Store odd numbers from 1-N in a list.\n",
    "N =35\n",
    "List = []\n",
    "for i in range (0,N+1):\n",
    "    if i%2 ==1:\n",
    "        List.append(i)\n",
    "\n",
    "print(List)\n",
    "\n",
    "\n",
    "\n"
   ]
  },
  {
   "cell_type": "code",
   "execution_count": 39,
   "metadata": {
    "scrolled": true
   },
   "outputs": [
    {
     "name": "stdout",
     "output_type": "stream",
     "text": [
      "[1, 3, 5, 7, 9, 11, 13, 15, 17, 19, 21, 23, 25, 27, 29, 31, 33, 35]\n",
      "18.0\n"
     ]
    }
   ],
   "source": [
    "# 6. Compute the mean of numbers in a list.\n",
    "total = 0\n",
    "Length = len(List)\n",
    "print(List)\n",
    "for z in List:\n",
    "    total = total + z\n",
    "\n",
    "print(total/Length)\n",
    "    "
   ]
  },
  {
   "cell_type": "markdown",
   "metadata": {},
   "source": [
    "# Nested Lists and Nested Loops"
   ]
  },
  {
   "cell_type": "code",
   "execution_count": 35,
   "metadata": {},
   "outputs": [
    {
     "name": "stdout",
     "output_type": "stream",
     "text": [
      "1.0\n",
      "0.9950041652780257\n",
      "0.9800665778412416\n",
      "0.955336489125606\n",
      "0.9210609940028851\n",
      "0.8775825618903728\n",
      "0.8253356149096783\n",
      "0.7648421872844885\n",
      "0.6967067093471655\n",
      "0.6216099682706646\n",
      "0.5403023058681399\n",
      "0.4535961214255775\n",
      "0.3623577544766736\n",
      "0.26749882862458735\n",
      "0.16996714290024081\n",
      "0.07073720166770268\n",
      "-0.029199522301289037\n",
      "-0.12884449429552508\n",
      "-0.22720209469308753\n",
      "-0.32328956686350396\n",
      "-0.4161468365471428\n",
      "-0.5048461045998579\n",
      "-0.5885011172553462\n",
      "-0.6662760212798247\n",
      "-0.737393715541246\n",
      "-0.8011436155469343\n",
      "-0.8568887533689478\n",
      "-0.9040721420170617\n",
      "-0.9422223406686585\n",
      "-0.9709581651495908\n",
      "-0.9899924966004456\n",
      "-0.9991351502732795\n",
      "-0.998294775794753\n",
      "-0.9874797699088647\n",
      "-0.9667981925794605\n",
      "-0.9364566872907957\n",
      "-0.8967584163341462\n",
      "-0.8481000317104072\n",
      "-0.7909677119144154\n",
      "-0.7259323042001387\n",
      "-0.6536436208636106\n",
      "-0.5748239465332677\n",
      "-0.4902608213406987\n",
      "-0.4007991720799746\n",
      "-0.30733286997841935\n",
      "-0.21079579943077972\n",
      "-0.11215252693505487\n",
      "-0.012388663462891449\n",
      "0.08749898343944551\n",
      "0.186512369422574\n",
      "0.2836621854632246\n",
      "0.3779777427129786\n",
      "0.4685166713003748\n",
      "0.5543743361791585\n",
      "0.6346928759426319\n",
      "0.7086697742912575\n",
      "0.7755658785102473\n",
      "0.8347127848391573\n",
      "0.8855195169413169\n",
      "0.9274784307440339\n",
      "0.9601702866503645\n",
      "0.9832684384425836\n",
      "0.9965420970232169\n"
     ]
    }
   ],
   "source": [
    "# 5. Calculate cos(x) for x in range(0,2pi) in 0.1 step increments.\n",
    "import math as m\n",
    "x = 0 \n",
    "while x <=(2*pi):\n",
    "    print(cos(x))\n",
    "    x = x + 0.1"
   ]
  },
  {
   "cell_type": "code",
   "execution_count": null,
   "metadata": {
    "collapsed": true
   },
   "outputs": [],
   "source": [
    "# We can make a list of lists!\n",
    "nested_list = [[1,2,3], [4,5,6], [7,8,9,10]]\n",
    "print(\"Now the 0th element is: nested_list[0] =\", nested_list[0])\n",
    "\n",
    "print(\"The 0th element of the 0th element: nested_list[0][0] =\", nested_list[0][0])"
   ]
  },
  {
   "cell_type": "code",
   "execution_count": null,
   "metadata": {
    "collapsed": true
   },
   "outputs": [],
   "source": [
    "# How do we iterate through these elements?\n",
    "for p in range(len(nested_list)):\n",
    "    for g in range(len(nested_list[p])):\n",
    "        elem = nested_list[p][g]\n",
    "        # Now we can do something with these elements, let's just print them\n",
    "        print(elem)\n",
    "        \n",
    "#Experiment a bit, place the print(elem) in different tab indentations. Why does it change the output?"
   ]
  },
  {
   "cell_type": "markdown",
   "metadata": {},
   "source": [
    "## If Statements"
   ]
  },
  {
   "cell_type": "code",
   "execution_count": null,
   "metadata": {
    "collapsed": true
   },
   "outputs": [],
   "source": [
    "# Let's take the same nested for loop from above\n",
    "# and add an if statement to only print out certain elements of the main list.\n",
    "\n",
    "for p in range(len(nested_list)):\n",
    "    for g in range(len(nested_list[p])):\n",
    "        elem = nested_list[p][g]\n",
    "        # Now we can do something with these elements, let's just print them\n",
    "        if elem%2 == 0:\n",
    "            print(elem)"
   ]
  },
  {
   "cell_type": "markdown",
   "metadata": {},
   "source": [
    "# Functions!"
   ]
  },
  {
   "cell_type": "code",
   "execution_count": 41,
   "metadata": {},
   "outputs": [],
   "source": [
    "def yfunc(t, v0): #We tell the function to expect two inputs, t and v0\n",
    "    \"\"\" Example Function Description\"\"\"\n",
    "    g = 9.81 # This is a 'local' variable. It only exists inside of this funciton \n",
    "             # and is erased after the function is called.\n",
    "    y = v0*t - 0.5*g*t**2 # Doing some calculations.\n",
    "    dydt = v0 - g*t\n",
    "    \n",
    "    return y, dydt # return two values\n"
   ]
  },
  {
   "cell_type": "code",
   "execution_count": 40,
   "metadata": {},
   "outputs": [
    {
     "name": "stdout",
     "output_type": "stream",
     "text": [
      "Object `yfunc` not found.\n"
     ]
    }
   ],
   "source": [
    "# If we forgot what our function does, ask for help:\n",
    "yfunc?"
   ]
  },
  {
   "cell_type": "code",
   "execution_count": 42,
   "metadata": {
    "scrolled": true
   },
   "outputs": [
    {
     "name": "stdout",
     "output_type": "stream",
     "text": [
      "position = 509.5\n",
      "velocity = 1.8999999999999915\n"
     ]
    }
   ],
   "source": [
    "position, velocity = yfunc(10, 100) # We need this double variable because our function returns two values\n",
    "print(\"position =\", position)\n",
    "print(\"velocity =\", velocity)"
   ]
  },
  {
   "cell_type": "markdown",
   "metadata": {},
   "source": [
    "# Practicals! Do 7-8\n",
    "Click on this cell to see some cool jupyter notebook formatting things.\n",
    "\n",
    "7. Write a function for the following:\n",
    "$$f(x) = \\begin{cases} x & 0 < x < 1 \\\\ 2-x & 1 < x <2 \\\\ 0 & otherwise \\end{cases}$$\n",
    "\n",
    "8. Write a function that computes the factorial of its input."
   ]
  },
  {
   "cell_type": "code",
   "execution_count": null,
   "metadata": {
    "collapsed": true
   },
   "outputs": [],
   "source": []
  }
 ],
 "metadata": {
  "kernelspec": {
   "display_name": "Python 3",
   "language": "python",
   "name": "python3"
  },
  "language_info": {
   "codemirror_mode": {
    "name": "ipython",
    "version": 3
   },
   "file_extension": ".py",
   "mimetype": "text/x-python",
   "name": "python",
   "nbconvert_exporter": "python",
   "pygments_lexer": "ipython3",
   "version": "3.7.4"
  }
 },
 "nbformat": 4,
 "nbformat_minor": 4
}
